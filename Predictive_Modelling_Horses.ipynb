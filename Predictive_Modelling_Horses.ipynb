{
 "cells": [
  {
   "cell_type": "code",
   "execution_count": 4,
   "metadata": {},
   "outputs": [],
   "source": [
    "import pandas as pd\n",
    "import numpy as np\n",
    "import matplotlib.pyplot as plt\n",
    "import seaborn as sb\n",
    "import warnings \n",
    "warnings.filterwarnings('ignore')\n",
    "pd.pandas.set_option('display.max_columns',None)"
   ]
  },
  {
   "cell_type": "code",
   "execution_count": 79,
   "metadata": {},
   "outputs": [],
   "source": [
    "from sklearn.tree import DecisionTreeClassifier\n",
    "from sklearn.ensemble import RandomForestClassifier \n",
    "from sklearn.svm import SVC\n",
    "from sklearn.linear_model import LogisticRegression\n",
    "from sklearn.model_selection import cross_val_score,StratifiedKFold,KFold\n",
    "from sklearn.metrics import accuracy_score, roc_auc_score,f1_score,precision_score,recall_score,confusion_matrix,classification_report\n",
    "from sklearn.model_selection import GridSearchCV\n",
    "from sklearn.model_selection import train_test_split\n",
    "from sklearn.preprocessing import StandardScaler"
   ]
  },
  {
   "cell_type": "code",
   "execution_count": 117,
   "metadata": {},
   "outputs": [],
   "source": [
    "def model_metrics(model,x_test,y_test):\n",
    "    y_pred=model.predict(x_test)\n",
    "#     y_proba=model.predict_proba(x_test)\n",
    "    print('confusion matrix:\\n',confusion_matrix(y_test,y_pred))\n",
    "    tn, fp, fn, tp=confusion_matrix(y_test,y_pred).ravel()\n",
    "    print('tn: ',tn,'\\t','fp: ',fp)\n",
    "    print('fn: ',fn,'\\t','tp: ',tp)\n",
    "    print('\\nAccuracy: ',accuracy_score(y_test,y_pred).round(3))\n",
    "    print('f1_score: ', f1_score(y_test,y_pred,average=None).round(3))\n",
    "    print('recall: ', recall_score(y_test,y_pred,average=None).round(3))\n",
    "    print('precision: ', precision_score(y_test,y_pred,average=None).round(3))\n",
    "#     print('auc_score: ', roc_auc_score(y_test,y_proba[:,1]).round(3))\n",
    "    print('\\n')\n",
    "    print(classification_report(y_test,y_pred,labels=[0,1]))"
   ]
  },
  {
   "cell_type": "code",
   "execution_count": 14,
   "metadata": {},
   "outputs": [],
   "source": [
    "def model_CVmetrics(model,x_train,y_train):\n",
    "    scv=StratifiedKFold(n_splits=5,random_state=100)\n",
    "    kcv=KFold(n_splits=5, random_state=100)\n",
    "    metrics=['accuracy','f1','recall','precision','roc_auc']\n",
    "    dfMet=pd.DataFrame()\n",
    "    dfMet['Stratified_10Fold']=[cross_val_score(model,X=x_train,y=y_train,cv=scv,scoring=met).mean().round(3) for met in metrics]\n",
    "    dfMet['10Fold']=[cross_val_score(model,X=x_train,y=y_train,cv=kcv,scoring=met).mean().round(3) for met in metrics]\n",
    "    dfMet.index=metrics\n",
    "    print(dfMet)"
   ]
  },
  {
   "cell_type": "code",
   "execution_count": 102,
   "metadata": {},
   "outputs": [],
   "source": [
    "dct=DecisionTreeClassifier(class_weight='balanced',random_state=100)\n",
    "rf=RandomForestClassifier(class_weight='balanced',random_state=100)\n",
    "lr=LogisticRegression(class_weight='balanced',random_state=100)\n",
    "svm=SVC(class_weight='balanced',random_state=100)\n",
    "\n",
    "starcv=StratifiedKFold(n_splits=5)\n",
    "kfoldcv=KFold(n_splits=5)"
   ]
  },
  {
   "cell_type": "code",
   "execution_count": 105,
   "metadata": {},
   "outputs": [],
   "source": [
    "dct_params={'max_depth':np.arange(3,15),'criterion':['gini','entropy']}\n",
    "rf_params={'n_estimators': [100,300,500],'max_features': ['auto', 'sqrt', 'log2'],\n",
    "                    'max_depth' : [3,4,5,6,7,8],'criterion' :['gini', 'entropy']}\n",
    "svm_params={'C':[1,10,100,1000],'gamma':[1,0.1,0.001,0.0001]}\n",
    "lr_params={'penalty':['l1','l2','elastic'],'C':np.logspace(-4,4,20)}"
   ]
  },
  {
   "cell_type": "code",
   "execution_count": null,
   "metadata": {},
   "outputs": [],
   "source": [
    "df_ap0=pd.read_csv('Horses_Approach0_2.csv')\n",
    "df_ap0.dropna(axis=0,inplace=True)\n",
    "df_ap1=pd.read_csv('Horses_Aggregate_Approach1_2.csv')\n",
    "df_ap2=pd.read_csv('Horses_Approach2_2.csv')"
   ]
  },
  {
   "cell_type": "markdown",
   "metadata": {},
   "source": [
    "## Approach 2\n",
    "Remove all features containing missing values >50%, remove obs with atleast one missing value"
   ]
  },
  {
   "cell_type": "code",
   "execution_count": 104,
   "metadata": {},
   "outputs": [
    {
     "name": "stdout",
     "output_type": "stream",
     "text": [
      "********************************************************************** \n",
      " dimmensions of train data: (22053, 64) \n",
      " **********************************************************************\n",
      "class %: \n",
      " 0    90.699678\n",
      "1     9.300322\n",
      "Name: Won, dtype: float64 \n",
      "\n",
      "class counts: \n",
      " 0    25419\n",
      "1     2180\n",
      "Name: Won, dtype: int64\n",
      "\n",
      " ********************************************************************** \n",
      " dimmensions of test data: (7351, 64) \n",
      " **********************************************************************\n",
      "class %: \n",
      " 0    90.708747\n",
      "1     9.291253\n",
      "Name: Won, dtype: float64 \n",
      "\n",
      "class counts: \n",
      " 0    6668\n",
      "1     683\n",
      "Name: Won, dtype: int64\n"
     ]
    }
   ],
   "source": [
    "x_train2,x_test2,y_train2,y_test2=train_test_split(df_ap2.drop(['Won'],axis=1),df_ap2.Won,\n",
    "                                               test_size=0.25,stratify=df_ap2.Won,random_state=100)\n",
    "#scaling between mean and 1 std deviation\n",
    "std_scaler=StandardScaler()\n",
    "x_train2=std_scaler.fit_transform(x_train2)\n",
    "x_test2=std_scaler.fit_transform(x_test2)\n",
    "\n",
    "print('*'*70,'\\n','dimmensions of train data:',x_train2.shape,'\\n','*'*70)\n",
    "print('class %:','\\n',y_train2.value_counts(normalize=True)*100,'\\n')\n",
    "print('class counts:','\\n',y_train0.value_counts())\n",
    "\n",
    "print('\\n','*'*70,'\\n','dimmensions of test data:',x_test2.shape,'\\n','*'*70)\n",
    "print('class %:','\\n',y_test2.value_counts(normalize=True)*100,'\\n')\n",
    "print('class counts:','\\n',y_test2.value_counts())"
   ]
  },
  {
   "cell_type": "code",
   "execution_count": 112,
   "metadata": {},
   "outputs": [],
   "source": [
    "dct_grid=GridSearchCV(dct,dct_params,scoring='f1',cv=starcv).fit(x_train2,y_train2)\n",
    "rf_grid=GridSearchCV(rf,rf_params,scoring='f1',cv=starcv).fit(x_train2,y_train2)\n",
    "svm_grid=GridSearchCV(svm,svm_params,scoring='f1',cv=starcv).fit(x_train2,y_train2)\n",
    "#lr_grid=GridSearchCV(lr,lr_params,scoring='f1',cv=starcv).fit(x_train2,y_train2)"
   ]
  },
  {
   "cell_type": "code",
   "execution_count": 108,
   "metadata": {},
   "outputs": [],
   "source": [
    "lr_grid=GridSearchCV(lr,lr_params,scoring='f1',cv=starcv).fit(x_train2,y_train2)"
   ]
  },
  {
   "cell_type": "code",
   "execution_count": 113,
   "metadata": {},
   "outputs": [
    {
     "name": "stdout",
     "output_type": "stream",
     "text": [
      "confusion matrix:\n",
      " [[4490 2178]\n",
      " [ 212  471]]\n",
      "tn:  4490 \t fp:  2178\n",
      "fn:  212 \t tp:  471\n",
      "\n",
      "Accuracy:  0.675\n",
      "f1_score:  [0.79  0.283]\n",
      "recall:  [0.673 0.69 ]\n",
      "precision:  [0.955 0.178]\n",
      "auc_score:  0.719\n",
      "\n",
      "\n",
      "              precision    recall  f1-score   support\n",
      "\n",
      "           0       0.95      0.67      0.79      6668\n",
      "           1       0.18      0.69      0.28       683\n",
      "\n",
      "    accuracy                           0.67      7351\n",
      "   macro avg       0.57      0.68      0.54      7351\n",
      "weighted avg       0.88      0.67      0.74      7351\n",
      "\n"
     ]
    }
   ],
   "source": [
    "model_metrics(dct_grid.best_estimator_,x_test2,y_test2)"
   ]
  },
  {
   "cell_type": "code",
   "execution_count": 115,
   "metadata": {},
   "outputs": [
    {
     "name": "stdout",
     "output_type": "stream",
     "text": [
      "confusion matrix:\n",
      " [[4620 2048]\n",
      " [ 245  438]]\n",
      "tn:  4620 \t fp:  2048\n",
      "fn:  245 \t tp:  438\n",
      "\n",
      "Accuracy:  0.688\n",
      "f1_score:  [0.801 0.276]\n",
      "recall:  [0.693 0.641]\n",
      "precision:  [0.95  0.176]\n",
      "auc_score:  0.723\n",
      "\n",
      "\n",
      "              precision    recall  f1-score   support\n",
      "\n",
      "           0       0.95      0.69      0.80      6668\n",
      "           1       0.18      0.64      0.28       683\n",
      "\n",
      "    accuracy                           0.69      7351\n",
      "   macro avg       0.56      0.67      0.54      7351\n",
      "weighted avg       0.88      0.69      0.75      7351\n",
      "\n"
     ]
    }
   ],
   "source": [
    "model_metrics(rf_grid.best_estimator_,x_test2,y_test2)"
   ]
  },
  {
   "cell_type": "code",
   "execution_count": 118,
   "metadata": {},
   "outputs": [
    {
     "name": "stdout",
     "output_type": "stream",
     "text": [
      "confusion matrix:\n",
      " [[4130 2538]\n",
      " [ 192  491]]\n",
      "tn:  4130 \t fp:  2538\n",
      "fn:  192 \t tp:  491\n",
      "\n",
      "Accuracy:  0.629\n",
      "f1_score:  [0.752 0.265]\n",
      "recall:  [0.619 0.719]\n",
      "precision:  [0.956 0.162]\n",
      "\n",
      "\n",
      "              precision    recall  f1-score   support\n",
      "\n",
      "           0       0.96      0.62      0.75      6668\n",
      "           1       0.16      0.72      0.26       683\n",
      "\n",
      "    accuracy                           0.63      7351\n",
      "   macro avg       0.56      0.67      0.51      7351\n",
      "weighted avg       0.88      0.63      0.71      7351\n",
      "\n"
     ]
    }
   ],
   "source": [
    "model_metrics(svm_grid.best_estimator_,x_test2,y_test2)"
   ]
  },
  {
   "cell_type": "code",
   "execution_count": null,
   "metadata": {},
   "outputs": [],
   "source": []
  }
 ],
 "metadata": {
  "kernelspec": {
   "display_name": "Python 3",
   "language": "python",
   "name": "python3"
  },
  "language_info": {
   "codemirror_mode": {
    "name": "ipython",
    "version": 3
   },
   "file_extension": ".py",
   "mimetype": "text/x-python",
   "name": "python",
   "nbconvert_exporter": "python",
   "pygments_lexer": "ipython3",
   "version": "3.7.3"
  }
 },
 "nbformat": 4,
 "nbformat_minor": 2
}
