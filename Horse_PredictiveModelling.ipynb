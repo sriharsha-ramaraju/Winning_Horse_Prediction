{
  "nbformat": 4,
  "nbformat_minor": 0,
  "metadata": {
    "colab": {
      "name": "Horse_PredictiveModelling.ipynb",
      "provenance": [],
      "collapsed_sections": [],
      "authorship_tag": "ABX9TyMNQ+QAImqNMIpqqfP123Kx",
      "include_colab_link": true
    },
    "kernelspec": {
      "name": "python3",
      "display_name": "Python 3"
    },
    "accelerator": "GPU"
  },
  "cells": [
    {
      "cell_type": "markdown",
      "metadata": {
        "id": "view-in-github",
        "colab_type": "text"
      },
      "source": [
        "<a href=\"https://colab.research.google.com/github/sriharsha-ramaraju/Winning_Horse_Prediction/blob/master/Horse_PredictiveModelling.ipynb\" target=\"_parent\"><img src=\"https://colab.research.google.com/assets/colab-badge.svg\" alt=\"Open In Colab\"/></a>"
      ]
    },
    {
      "cell_type": "code",
      "metadata": {
        "id": "N3P4B2Xoz1nU",
        "colab_type": "code",
        "colab": {}
      },
      "source": [
        "import pandas as pd\n",
        "import numpy as np\n",
        "import matplotlib.pyplot as plt\n",
        "import seaborn as sb\n",
        "import warnings \n",
        "warnings.filterwarnings('ignore')\n",
        "pd.pandas.set_option('display.max_columns',None)"
      ],
      "execution_count": 0,
      "outputs": []
    },
    {
      "cell_type": "code",
      "metadata": {
        "id": "YajgWrc01g5M",
        "colab_type": "code",
        "colab": {}
      },
      "source": [
        "from sklearn.tree import DecisionTreeClassifier\n",
        "from sklearn.ensemble import RandomForestClassifier \n",
        "from sklearn.svm import SVC\n",
        "from sklearn.linear_model import LogisticRegression\n",
        "from sklearn.model_selection import cross_val_score,StratifiedKFold,KFold\n",
        "from sklearn.metrics import accuracy_score, roc_auc_score,f1_score,precision_score,recall_score,confusion_matrix,classification_report\n",
        "from sklearn.model_selection import GridSearchCV\n",
        "from sklearn.model_selection import train_test_split\n",
        "from sklearn.preprocessing import StandardScaler"
      ],
      "execution_count": 0,
      "outputs": []
    },
    {
      "cell_type": "code",
      "metadata": {
        "id": "Y92Zu2th1jlX",
        "colab_type": "code",
        "colab": {}
      },
      "source": [
        "def model_metrics(model,x_test,y_test):\n",
        "    y_pred=model.predict(x_test)\n",
        "    y_proba=model.predict_proba(x_test)\n",
        "    print('confusion matrix:\\n',confusion_matrix(y_test,y_pred))\n",
        "    tn, fp, fn, tp=confusion_matrix(y_test,y_pred).ravel()\n",
        "    print('tn: ',tn,'\\t','fp: ',fp)\n",
        "    print('fn: ',fn,'\\t','tp: ',tp)\n",
        "    print('\\nAccuracy: ',accuracy_score(y_test,y_pred).round(3))\n",
        "    print('f1_score: ', f1_score(y_test,y_pred,average=None).round(3))\n",
        "    print('Avg_unweighted f1_score: ', f1_score(y_test,y_pred,average='macro').round(3))\n",
        "    print('Avg_weighted f1_score: ', f1_score(y_test,y_pred,average='weighted').round(3))\n",
        "    print('recall: ', recall_score(y_test,y_pred,average=None).round(3))\n",
        "    print('precision: ', precision_score(y_test,y_pred,average=None).round(3))\n",
        "    print('auc_score: ', roc_auc_score(y_test,y_proba[:,1]).round(3))\n",
        "    print('\\n')\n",
        "    print(classification_report(y_test,y_pred,labels=[0,1]))"
      ],
      "execution_count": 0,
      "outputs": []
    },
    {
      "cell_type": "code",
      "metadata": {
        "id": "XARx675j3MWx",
        "colab_type": "code",
        "colab": {}
      },
      "source": [
        "def model_CVmetrics(model,x_train,y_train):\n",
        "    scv=StratifiedKFold(n_splits=5,random_state=100)\n",
        "    kcv=KFold(n_splits=5, random_state=100)\n",
        "    metrics=['accuracy','f1','f1_macro','f1_weighted','recall','precision','roc_auc']\n",
        "    dfMet=pd.DataFrame()\n",
        "    dfMet['Stratified_10Fold']=[cross_val_score(model,X=x_train,y=y_train,cv=scv,scoring=met).mean().round(3) for met in metrics]\n",
        "    dfMet['10Fold']=[cross_val_score(model,X=x_train,y=y_train,cv=kcv,scoring=met).mean().round(3) for met in metrics]\n",
        "    dfMet.index=metrics\n",
        "    print(dfMet)"
      ],
      "execution_count": 0,
      "outputs": []
    },
    {
      "cell_type": "code",
      "metadata": {
        "id": "M4y5sq3r5a0G",
        "colab_type": "code",
        "colab": {}
      },
      "source": [
        "dct=DecisionTreeClassifier(class_weight='balanced',random_state=100)\n",
        "rf=RandomForestClassifier(class_weight='balanced',random_state=100)\n",
        "lr=LogisticRegression(class_weight='balanced',random_state=100)\n",
        "svm=SVC(class_weight='balanced',random_state=100,probability=True)\n",
        "\n",
        "starcv=StratifiedKFold(n_splits=5)\n",
        "kfoldcv=KFold(n_splits=5)"
      ],
      "execution_count": 0,
      "outputs": []
    },
    {
      "cell_type": "code",
      "metadata": {
        "id": "WcVZkfZh4AOa",
        "colab_type": "code",
        "colab": {
          "base_uri": "https://localhost:8080/",
          "height": 34
        },
        "outputId": "c6d99e31-59a7-4762-9990-7f35879b5792"
      },
      "source": [
        "from google.colab import drive\n",
        "drive"
      ],
      "execution_count": 11,
      "outputs": [
        {
          "output_type": "execute_result",
          "data": {
            "text/plain": [
              "<module 'google.colab.drive' from '/usr/local/lib/python3.6/dist-packages/google/colab/drive.py'>"
            ]
          },
          "metadata": {
            "tags": []
          },
          "execution_count": 11
        }
      ]
    },
    {
      "cell_type": "code",
      "metadata": {
        "id": "LZAXi4S24Gka",
        "colab_type": "code",
        "colab": {
          "base_uri": "https://localhost:8080/",
          "height": 122
        },
        "outputId": "e4481793-6661-4222-9e01-11f4d845890c"
      },
      "source": [
        "from google.colab import drive\n",
        "drive.mount('/content/drive')"
      ],
      "execution_count": 12,
      "outputs": [
        {
          "output_type": "stream",
          "text": [
            "Go to this URL in a browser: https://accounts.google.com/o/oauth2/auth?client_id=947318989803-6bn6qk8qdgf4n4g3pfee6491hc0brc4i.apps.googleusercontent.com&redirect_uri=urn%3aietf%3awg%3aoauth%3a2.0%3aoob&response_type=code&scope=email%20https%3a%2f%2fwww.googleapis.com%2fauth%2fdocs.test%20https%3a%2f%2fwww.googleapis.com%2fauth%2fdrive%20https%3a%2f%2fwww.googleapis.com%2fauth%2fdrive.photos.readonly%20https%3a%2f%2fwww.googleapis.com%2fauth%2fpeopleapi.readonly\n",
            "\n",
            "Enter your authorization code:\n",
            "··········\n",
            "Mounted at /content/drive\n"
          ],
          "name": "stdout"
        }
      ]
    },
    {
      "cell_type": "code",
      "metadata": {
        "id": "Wc5nONV23Myu",
        "colab_type": "code",
        "colab": {}
      },
      "source": [
        "df_ap0=pd.read_csv(\"/content/drive/My Drive/Colab_Data/Horses_Approach0_2.csv\")\n",
        "df_ap0.dropna(axis=0,inplace=True)\n",
        "df_ap1=pd.read_csv(\"/content/drive/My Drive/Colab_Data/Horses_Aggregate_Approach1_2.csv\")\n",
        "df_ap2=pd.read_csv(\"/content/drive/My Drive/Colab_Data/Horses_Approach2_2.csv\")"
      ],
      "execution_count": 0,
      "outputs": []
    },
    {
      "cell_type": "markdown",
      "metadata": {
        "id": "OA8raWuN3gOZ",
        "colab_type": "text"
      },
      "source": [
        "### APPROACH 0-Classic Approach\n",
        "#### Fill in Missing values, Taking top 5 levels in categorical variables, convert to dummy variables"
      ]
    },
    {
      "cell_type": "code",
      "metadata": {
        "id": "X2oTMKla3M1p",
        "colab_type": "code",
        "colab": {
          "base_uri": "https://localhost:8080/",
          "height": 442
        },
        "outputId": "e0d1826e-ac1f-48ff-e23a-8caec669ad28"
      },
      "source": [
        "x_train0,x_test0,y_train0,y_test0=train_test_split(df_ap0.drop(['Won'],axis=1),df_ap0.Won,\n",
        "                                               test_size=0.25,stratify=df_ap0.Won,random_state=100)\n",
        "#scaling between mean and 1 std deviation\n",
        "std_scaler=StandardScaler()\n",
        "x_train0=std_scaler.fit_transform(x_train0)\n",
        "x_test0=std_scaler.fit_transform(x_test0)\n",
        "\n",
        "print('*'*70,'\\n','dimmensions of train data:',x_train0.shape,'\\n','*'*70)\n",
        "print('class %:','\\n',y_train0.value_counts(normalize=True)*100,'\\n')\n",
        "print('class counts:','\\n',y_train0.value_counts())\n",
        "\n",
        "print('\\n','*'*70,'\\n','dimmensions of test data:',x_test0.shape,'\\n','*'*70)\n",
        "print('class %:','\\n',y_test0.value_counts(normalize=True)*100,'\\n')\n",
        "print('class counts:','\\n',y_test0.value_counts())"
      ],
      "execution_count": 13,
      "outputs": [
        {
          "output_type": "stream",
          "text": [
            "********************************************************************** \n",
            " dimmensions of train data: (27599, 94) \n",
            " **********************************************************************\n",
            "class %: \n",
            " 0    92.101163\n",
            "1     7.898837\n",
            "Name: Won, dtype: float64 \n",
            "\n",
            "class counts: \n",
            " 0    25419\n",
            "1     2180\n",
            "Name: Won, dtype: int64\n",
            "\n",
            " ********************************************************************** \n",
            " dimmensions of test data: (9200, 94) \n",
            " **********************************************************************\n",
            "class %: \n",
            " 0    92.097826\n",
            "1     7.902174\n",
            "Name: Won, dtype: float64 \n",
            "\n",
            "class counts: \n",
            " 0    8473\n",
            "1     727\n",
            "Name: Won, dtype: int64\n"
          ],
          "name": "stdout"
        }
      ]
    },
    {
      "cell_type": "code",
      "metadata": {
        "id": "MilcTO_93M4g",
        "colab_type": "code",
        "colab": {}
      },
      "source": [
        "dct_params={'max_depth':np.arange(3,15),'criterion':['gini','entropy']}\n",
        "rf_params={'n_estimators': [100,300,500],'max_features': ['auto', 'sqrt', 'log2'],\n",
        "                    'max_depth' : [3,4,5,6,7,8],'criterion' :['gini', 'entropy']}\n",
        "svm_params={'C':[1,10,100,1000],'gamma':[1,0.1,0.001,0.0001]}\n",
        "lr_params={'penalty':['l1','l2'],'C':np.logspace(-4,4,20)}"
      ],
      "execution_count": 0,
      "outputs": []
    },
    {
      "cell_type": "code",
      "metadata": {
        "id": "HZKro_y33M7O",
        "colab_type": "code",
        "colab": {}
      },
      "source": [
        "dct_grid=GridSearchCV(dct,dct_params,scoring='f1',cv=starcv).fit(x_train0,y_train0)"
      ],
      "execution_count": 0,
      "outputs": []
    },
    {
      "cell_type": "code",
      "metadata": {
        "id": "SW44DB-q3NAU",
        "colab_type": "code",
        "colab": {}
      },
      "source": [
        "rf_grid=GridSearchCV(rf,rf_params,scoring='f1',cv=starcv).fit(x_train0,y_train0)"
      ],
      "execution_count": 0,
      "outputs": []
    },
    {
      "cell_type": "code",
      "metadata": {
        "id": "1YdcOc8G3NDP",
        "colab_type": "code",
        "colab": {}
      },
      "source": [
        "svm_grid=GridSearchCV(svm,svm_params,scoring='f1',cv=starcv).fit(x_train0,y_train0)"
      ],
      "execution_count": 0,
      "outputs": []
    },
    {
      "cell_type": "code",
      "metadata": {
        "id": "vp_8pSbx3NF8",
        "colab_type": "code",
        "colab": {}
      },
      "source": [
        "lr_grid=GridSearchCV(lr,lr_params,scoring='f1',cv=starcv).fit(x_train0,y_train0)"
      ],
      "execution_count": 0,
      "outputs": []
    },
    {
      "cell_type": "code",
      "metadata": {
        "id": "WHeHGcPd3NIs",
        "colab_type": "code",
        "colab": {
          "base_uri": "https://localhost:8080/",
          "height": 425
        },
        "outputId": "9a3f6ce7-44dd-471e-9117-2b805ba79997"
      },
      "source": [
        "model_metrics(dct_grid.best_estimator_,x_test0,y_test0)"
      ],
      "execution_count": 29,
      "outputs": [
        {
          "output_type": "stream",
          "text": [
            "confusion matrix:\n",
            " [[4996 3477]\n",
            " [ 144  583]]\n",
            "tn:  4996 \t fp:  3477\n",
            "fn:  144 \t tp:  583\n",
            "\n",
            "Accuracy:  0.606\n",
            "f1_score:  [0.734 0.244]\n",
            "Avg_unweighted f1_score:  0.489\n",
            "Avg_weighted f1_score:  0.695\n",
            "recall:  [0.59  0.802]\n",
            "precision:  [0.972 0.144]\n",
            "auc_score:  0.749\n",
            "\n",
            "\n",
            "              precision    recall  f1-score   support\n",
            "\n",
            "           0       0.97      0.59      0.73      8473\n",
            "           1       0.14      0.80      0.24       727\n",
            "\n",
            "    accuracy                           0.61      9200\n",
            "   macro avg       0.56      0.70      0.49      9200\n",
            "weighted avg       0.91      0.61      0.70      9200\n",
            "\n"
          ],
          "name": "stdout"
        }
      ]
    },
    {
      "cell_type": "code",
      "metadata": {
        "id": "NPbkv5fQ3NLh",
        "colab_type": "code",
        "colab": {
          "base_uri": "https://localhost:8080/",
          "height": 153
        },
        "outputId": "79f1fe04-63ea-4b9d-9f30-7fd34bb50621"
      },
      "source": [
        "model_CVmetrics(dct_grid.best_estimator_,x_train0,y_train0)"
      ],
      "execution_count": 32,
      "outputs": [
        {
          "output_type": "stream",
          "text": [
            "             Stratified_10Fold  10Fold\n",
            "accuracy                 0.680   0.676\n",
            "f1                       0.267   0.263\n",
            "f1_macro                 0.531   0.527\n",
            "f1_weighted              0.753   0.750\n",
            "recall                   0.737   0.729\n",
            "precision                0.163   0.160\n",
            "roc_auc                  0.763   0.762\n"
          ],
          "name": "stdout"
        }
      ]
    },
    {
      "cell_type": "code",
      "metadata": {
        "id": "WzxmrcVg3NOK",
        "colab_type": "code",
        "colab": {
          "base_uri": "https://localhost:8080/",
          "height": 425
        },
        "outputId": "f7bb8280-75ab-4e8d-c3a0-e1b590ce0dd9"
      },
      "source": [
        "model_metrics(rf_grid.best_estimator_,x_test0,y_test0)"
      ],
      "execution_count": 33,
      "outputs": [
        {
          "output_type": "stream",
          "text": [
            "confusion matrix:\n",
            " [[5752 2721]\n",
            " [ 232  495]]\n",
            "tn:  5752 \t fp:  2721\n",
            "fn:  232 \t tp:  495\n",
            "\n",
            "Accuracy:  0.679\n",
            "f1_score:  [0.796 0.251]\n",
            "Avg_unweighted f1_score:  0.523\n",
            "Avg_weighted f1_score:  0.753\n",
            "recall:  [0.679 0.681]\n",
            "precision:  [0.961 0.154]\n",
            "auc_score:  0.746\n",
            "\n",
            "\n",
            "              precision    recall  f1-score   support\n",
            "\n",
            "           0       0.96      0.68      0.80      8473\n",
            "           1       0.15      0.68      0.25       727\n",
            "\n",
            "    accuracy                           0.68      9200\n",
            "   macro avg       0.56      0.68      0.52      9200\n",
            "weighted avg       0.90      0.68      0.75      9200\n",
            "\n"
          ],
          "name": "stdout"
        }
      ]
    },
    {
      "cell_type": "code",
      "metadata": {
        "id": "udv82B4g3NQ8",
        "colab_type": "code",
        "colab": {
          "base_uri": "https://localhost:8080/",
          "height": 153
        },
        "outputId": "6552b7af-79a6-4339-b423-b1d44723a62a"
      },
      "source": [
        "model_CVmetrics(rf_grid.best_estimator_,x_train0,y_train0)"
      ],
      "execution_count": 34,
      "outputs": [
        {
          "output_type": "stream",
          "text": [
            "             Stratified_10Fold  10Fold\n",
            "accuracy                 0.702   0.701\n",
            "f1                       0.270   0.269\n",
            "f1_macro                 0.541   0.540\n",
            "f1_weighted              0.770   0.769\n",
            "recall                   0.697   0.694\n",
            "precision                0.167   0.166\n",
            "roc_auc                  0.759   0.759\n"
          ],
          "name": "stdout"
        }
      ]
    },
    {
      "cell_type": "code",
      "metadata": {
        "id": "-9b8DjlD3NT9",
        "colab_type": "code",
        "colab": {
          "base_uri": "https://localhost:8080/",
          "height": 408
        },
        "outputId": "4f055044-2e93-4930-f0c5-34d4233cdcff"
      },
      "source": [
        "model_metrics(svm_grid.best_estimator_,x_test0,y_test0)"
      ],
      "execution_count": 44,
      "outputs": [
        {
          "output_type": "stream",
          "text": [
            "confusion matrix:\n",
            " [[5663 2810]\n",
            " [ 234  493]]\n",
            "tn:  5663 \t fp:  2810\n",
            "fn:  234 \t tp:  493\n",
            "\n",
            "Accuracy:  0.669\n",
            "f1_score:  [0.788 0.245]\n",
            "Avg_unweighted f1_score:  0.516\n",
            "Avg_weighted f1_score:  0.745\n",
            "recall:  [0.668 0.678]\n",
            "precision:  [0.96  0.149]\n",
            "\n",
            "\n",
            "              precision    recall  f1-score   support\n",
            "\n",
            "           0       0.96      0.67      0.79      8473\n",
            "           1       0.15      0.68      0.24       727\n",
            "\n",
            "    accuracy                           0.67      9200\n",
            "   macro avg       0.55      0.67      0.52      9200\n",
            "weighted avg       0.90      0.67      0.75      9200\n",
            "\n"
          ],
          "name": "stdout"
        }
      ]
    },
    {
      "cell_type": "code",
      "metadata": {
        "id": "IJ-RcPKa3NWg",
        "colab_type": "code",
        "colab": {
          "base_uri": "https://localhost:8080/",
          "height": 307
        },
        "outputId": "fba4d3da-a316-4283-b398-1985b32ed75d"
      },
      "source": [
        "model_CVmetrics(svm_grid.best_estimator_,x_train0,y_train0)"
      ],
      "execution_count": 45,
      "outputs": [
        {
          "output_type": "error",
          "ename": "KeyboardInterrupt",
          "evalue": "ignored",
          "traceback": [
            "\u001b[0;31m---------------------------------------------------------------------------\u001b[0m",
            "\u001b[0;31mKeyboardInterrupt\u001b[0m                         Traceback (most recent call last)",
            "\u001b[0;32m<ipython-input-45-5f885edeb6ef>\u001b[0m in \u001b[0;36m<module>\u001b[0;34m()\u001b[0m\n\u001b[0;32m----> 1\u001b[0;31m \u001b[0mmodel_CVmetrics\u001b[0m\u001b[0;34m(\u001b[0m\u001b[0msvm_grid\u001b[0m\u001b[0;34m.\u001b[0m\u001b[0mbest_estimator_\u001b[0m\u001b[0;34m,\u001b[0m\u001b[0mx_train0\u001b[0m\u001b[0;34m,\u001b[0m\u001b[0my_train0\u001b[0m\u001b[0;34m)\u001b[0m\u001b[0;34m\u001b[0m\u001b[0;34m\u001b[0m\u001b[0m\n\u001b[0m",
            "\u001b[0;32m<ipython-input-31-26e0480b4ac0>\u001b[0m in \u001b[0;36mmodel_CVmetrics\u001b[0;34m(model, x_train, y_train)\u001b[0m\n\u001b[1;32m      4\u001b[0m     \u001b[0mmetrics\u001b[0m\u001b[0;34m=\u001b[0m\u001b[0;34m[\u001b[0m\u001b[0;34m'accuracy'\u001b[0m\u001b[0;34m,\u001b[0m\u001b[0;34m'f1'\u001b[0m\u001b[0;34m,\u001b[0m\u001b[0;34m'f1_macro'\u001b[0m\u001b[0;34m,\u001b[0m\u001b[0;34m'f1_weighted'\u001b[0m\u001b[0;34m,\u001b[0m\u001b[0;34m'recall'\u001b[0m\u001b[0;34m,\u001b[0m\u001b[0;34m'precision'\u001b[0m\u001b[0;34m,\u001b[0m\u001b[0;34m'roc_auc'\u001b[0m\u001b[0;34m]\u001b[0m\u001b[0;34m\u001b[0m\u001b[0;34m\u001b[0m\u001b[0m\n\u001b[1;32m      5\u001b[0m     \u001b[0mdfMet\u001b[0m\u001b[0;34m=\u001b[0m\u001b[0mpd\u001b[0m\u001b[0;34m.\u001b[0m\u001b[0mDataFrame\u001b[0m\u001b[0;34m(\u001b[0m\u001b[0;34m)\u001b[0m\u001b[0;34m\u001b[0m\u001b[0;34m\u001b[0m\u001b[0m\n\u001b[0;32m----> 6\u001b[0;31m     \u001b[0mdfMet\u001b[0m\u001b[0;34m[\u001b[0m\u001b[0;34m'Stratified_10Fold'\u001b[0m\u001b[0;34m]\u001b[0m\u001b[0;34m=\u001b[0m\u001b[0;34m[\u001b[0m\u001b[0mcross_val_score\u001b[0m\u001b[0;34m(\u001b[0m\u001b[0mmodel\u001b[0m\u001b[0;34m,\u001b[0m\u001b[0mX\u001b[0m\u001b[0;34m=\u001b[0m\u001b[0mx_train\u001b[0m\u001b[0;34m,\u001b[0m\u001b[0my\u001b[0m\u001b[0;34m=\u001b[0m\u001b[0my_train\u001b[0m\u001b[0;34m,\u001b[0m\u001b[0mcv\u001b[0m\u001b[0;34m=\u001b[0m\u001b[0mscv\u001b[0m\u001b[0;34m,\u001b[0m\u001b[0mscoring\u001b[0m\u001b[0;34m=\u001b[0m\u001b[0mmet\u001b[0m\u001b[0;34m)\u001b[0m\u001b[0;34m.\u001b[0m\u001b[0mmean\u001b[0m\u001b[0;34m(\u001b[0m\u001b[0;34m)\u001b[0m\u001b[0;34m.\u001b[0m\u001b[0mround\u001b[0m\u001b[0;34m(\u001b[0m\u001b[0;36m3\u001b[0m\u001b[0;34m)\u001b[0m \u001b[0;32mfor\u001b[0m \u001b[0mmet\u001b[0m \u001b[0;32min\u001b[0m \u001b[0mmetrics\u001b[0m\u001b[0;34m]\u001b[0m\u001b[0;34m\u001b[0m\u001b[0;34m\u001b[0m\u001b[0m\n\u001b[0m\u001b[1;32m      7\u001b[0m     \u001b[0mdfMet\u001b[0m\u001b[0;34m[\u001b[0m\u001b[0;34m'10Fold'\u001b[0m\u001b[0;34m]\u001b[0m\u001b[0;34m=\u001b[0m\u001b[0;34m[\u001b[0m\u001b[0mcross_val_score\u001b[0m\u001b[0;34m(\u001b[0m\u001b[0mmodel\u001b[0m\u001b[0;34m,\u001b[0m\u001b[0mX\u001b[0m\u001b[0;34m=\u001b[0m\u001b[0mx_train\u001b[0m\u001b[0;34m,\u001b[0m\u001b[0my\u001b[0m\u001b[0;34m=\u001b[0m\u001b[0my_train\u001b[0m\u001b[0;34m,\u001b[0m\u001b[0mcv\u001b[0m\u001b[0;34m=\u001b[0m\u001b[0mkcv\u001b[0m\u001b[0;34m,\u001b[0m\u001b[0mscoring\u001b[0m\u001b[0;34m=\u001b[0m\u001b[0mmet\u001b[0m\u001b[0;34m)\u001b[0m\u001b[0;34m.\u001b[0m\u001b[0mmean\u001b[0m\u001b[0;34m(\u001b[0m\u001b[0;34m)\u001b[0m\u001b[0;34m.\u001b[0m\u001b[0mround\u001b[0m\u001b[0;34m(\u001b[0m\u001b[0;36m3\u001b[0m\u001b[0;34m)\u001b[0m \u001b[0;32mfor\u001b[0m \u001b[0mmet\u001b[0m \u001b[0;32min\u001b[0m \u001b[0mmetrics\u001b[0m\u001b[0;34m]\u001b[0m\u001b[0;34m\u001b[0m\u001b[0;34m\u001b[0m\u001b[0m\n\u001b[1;32m      8\u001b[0m     \u001b[0mdfMet\u001b[0m\u001b[0;34m.\u001b[0m\u001b[0mindex\u001b[0m\u001b[0;34m=\u001b[0m\u001b[0mmetrics\u001b[0m\u001b[0;34m\u001b[0m\u001b[0;34m\u001b[0m\u001b[0m\n",
            "\u001b[0;32m<ipython-input-31-26e0480b4ac0>\u001b[0m in \u001b[0;36m<listcomp>\u001b[0;34m(.0)\u001b[0m\n\u001b[1;32m      4\u001b[0m     \u001b[0mmetrics\u001b[0m\u001b[0;34m=\u001b[0m\u001b[0;34m[\u001b[0m\u001b[0;34m'accuracy'\u001b[0m\u001b[0;34m,\u001b[0m\u001b[0;34m'f1'\u001b[0m\u001b[0;34m,\u001b[0m\u001b[0;34m'f1_macro'\u001b[0m\u001b[0;34m,\u001b[0m\u001b[0;34m'f1_weighted'\u001b[0m\u001b[0;34m,\u001b[0m\u001b[0;34m'recall'\u001b[0m\u001b[0;34m,\u001b[0m\u001b[0;34m'precision'\u001b[0m\u001b[0;34m,\u001b[0m\u001b[0;34m'roc_auc'\u001b[0m\u001b[0;34m]\u001b[0m\u001b[0;34m\u001b[0m\u001b[0;34m\u001b[0m\u001b[0m\n\u001b[1;32m      5\u001b[0m     \u001b[0mdfMet\u001b[0m\u001b[0;34m=\u001b[0m\u001b[0mpd\u001b[0m\u001b[0;34m.\u001b[0m\u001b[0mDataFrame\u001b[0m\u001b[0;34m(\u001b[0m\u001b[0;34m)\u001b[0m\u001b[0;34m\u001b[0m\u001b[0;34m\u001b[0m\u001b[0m\n\u001b[0;32m----> 6\u001b[0;31m     \u001b[0mdfMet\u001b[0m\u001b[0;34m[\u001b[0m\u001b[0;34m'Stratified_10Fold'\u001b[0m\u001b[0;34m]\u001b[0m\u001b[0;34m=\u001b[0m\u001b[0;34m[\u001b[0m\u001b[0mcross_val_score\u001b[0m\u001b[0;34m(\u001b[0m\u001b[0mmodel\u001b[0m\u001b[0;34m,\u001b[0m\u001b[0mX\u001b[0m\u001b[0;34m=\u001b[0m\u001b[0mx_train\u001b[0m\u001b[0;34m,\u001b[0m\u001b[0my\u001b[0m\u001b[0;34m=\u001b[0m\u001b[0my_train\u001b[0m\u001b[0;34m,\u001b[0m\u001b[0mcv\u001b[0m\u001b[0;34m=\u001b[0m\u001b[0mscv\u001b[0m\u001b[0;34m,\u001b[0m\u001b[0mscoring\u001b[0m\u001b[0;34m=\u001b[0m\u001b[0mmet\u001b[0m\u001b[0;34m)\u001b[0m\u001b[0;34m.\u001b[0m\u001b[0mmean\u001b[0m\u001b[0;34m(\u001b[0m\u001b[0;34m)\u001b[0m\u001b[0;34m.\u001b[0m\u001b[0mround\u001b[0m\u001b[0;34m(\u001b[0m\u001b[0;36m3\u001b[0m\u001b[0;34m)\u001b[0m \u001b[0;32mfor\u001b[0m \u001b[0mmet\u001b[0m \u001b[0;32min\u001b[0m \u001b[0mmetrics\u001b[0m\u001b[0;34m]\u001b[0m\u001b[0;34m\u001b[0m\u001b[0;34m\u001b[0m\u001b[0m\n\u001b[0m\u001b[1;32m      7\u001b[0m     \u001b[0mdfMet\u001b[0m\u001b[0;34m[\u001b[0m\u001b[0;34m'10Fold'\u001b[0m\u001b[0;34m]\u001b[0m\u001b[0;34m=\u001b[0m\u001b[0;34m[\u001b[0m\u001b[0mcross_val_score\u001b[0m\u001b[0;34m(\u001b[0m\u001b[0mmodel\u001b[0m\u001b[0;34m,\u001b[0m\u001b[0mX\u001b[0m\u001b[0;34m=\u001b[0m\u001b[0mx_train\u001b[0m\u001b[0;34m,\u001b[0m\u001b[0my\u001b[0m\u001b[0;34m=\u001b[0m\u001b[0my_train\u001b[0m\u001b[0;34m,\u001b[0m\u001b[0mcv\u001b[0m\u001b[0;34m=\u001b[0m\u001b[0mkcv\u001b[0m\u001b[0;34m,\u001b[0m\u001b[0mscoring\u001b[0m\u001b[0;34m=\u001b[0m\u001b[0mmet\u001b[0m\u001b[0;34m)\u001b[0m\u001b[0;34m.\u001b[0m\u001b[0mmean\u001b[0m\u001b[0;34m(\u001b[0m\u001b[0;34m)\u001b[0m\u001b[0;34m.\u001b[0m\u001b[0mround\u001b[0m\u001b[0;34m(\u001b[0m\u001b[0;36m3\u001b[0m\u001b[0;34m)\u001b[0m \u001b[0;32mfor\u001b[0m \u001b[0mmet\u001b[0m \u001b[0;32min\u001b[0m \u001b[0mmetrics\u001b[0m\u001b[0;34m]\u001b[0m\u001b[0;34m\u001b[0m\u001b[0;34m\u001b[0m\u001b[0m\n\u001b[1;32m      8\u001b[0m     \u001b[0mdfMet\u001b[0m\u001b[0;34m.\u001b[0m\u001b[0mindex\u001b[0m\u001b[0;34m=\u001b[0m\u001b[0mmetrics\u001b[0m\u001b[0;34m\u001b[0m\u001b[0;34m\u001b[0m\u001b[0m\n",
            "\u001b[0;32m/usr/local/lib/python3.6/dist-packages/sklearn/model_selection/_validation.py\u001b[0m in \u001b[0;36mcross_val_score\u001b[0;34m(estimator, X, y, groups, scoring, cv, n_jobs, verbose, fit_params, pre_dispatch, error_score)\u001b[0m\n\u001b[1;32m    388\u001b[0m                                 \u001b[0mfit_params\u001b[0m\u001b[0;34m=\u001b[0m\u001b[0mfit_params\u001b[0m\u001b[0;34m,\u001b[0m\u001b[0;34m\u001b[0m\u001b[0;34m\u001b[0m\u001b[0m\n\u001b[1;32m    389\u001b[0m                                 \u001b[0mpre_dispatch\u001b[0m\u001b[0;34m=\u001b[0m\u001b[0mpre_dispatch\u001b[0m\u001b[0;34m,\u001b[0m\u001b[0;34m\u001b[0m\u001b[0;34m\u001b[0m\u001b[0m\n\u001b[0;32m--> 390\u001b[0;31m                                 error_score=error_score)\n\u001b[0m\u001b[1;32m    391\u001b[0m     \u001b[0;32mreturn\u001b[0m \u001b[0mcv_results\u001b[0m\u001b[0;34m[\u001b[0m\u001b[0;34m'test_score'\u001b[0m\u001b[0;34m]\u001b[0m\u001b[0;34m\u001b[0m\u001b[0;34m\u001b[0m\u001b[0m\n\u001b[1;32m    392\u001b[0m \u001b[0;34m\u001b[0m\u001b[0m\n",
            "\u001b[0;32m/usr/local/lib/python3.6/dist-packages/sklearn/model_selection/_validation.py\u001b[0m in \u001b[0;36mcross_validate\u001b[0;34m(estimator, X, y, groups, scoring, cv, n_jobs, verbose, fit_params, pre_dispatch, return_train_score, return_estimator, error_score)\u001b[0m\n\u001b[1;32m    234\u001b[0m             \u001b[0mreturn_times\u001b[0m\u001b[0;34m=\u001b[0m\u001b[0;32mTrue\u001b[0m\u001b[0;34m,\u001b[0m \u001b[0mreturn_estimator\u001b[0m\u001b[0;34m=\u001b[0m\u001b[0mreturn_estimator\u001b[0m\u001b[0;34m,\u001b[0m\u001b[0;34m\u001b[0m\u001b[0;34m\u001b[0m\u001b[0m\n\u001b[1;32m    235\u001b[0m             error_score=error_score)\n\u001b[0;32m--> 236\u001b[0;31m         for train, test in cv.split(X, y, groups))\n\u001b[0m\u001b[1;32m    237\u001b[0m \u001b[0;34m\u001b[0m\u001b[0m\n\u001b[1;32m    238\u001b[0m     \u001b[0mzipped_scores\u001b[0m \u001b[0;34m=\u001b[0m \u001b[0mlist\u001b[0m\u001b[0;34m(\u001b[0m\u001b[0mzip\u001b[0m\u001b[0;34m(\u001b[0m\u001b[0;34m*\u001b[0m\u001b[0mscores\u001b[0m\u001b[0;34m)\u001b[0m\u001b[0;34m)\u001b[0m\u001b[0;34m\u001b[0m\u001b[0;34m\u001b[0m\u001b[0m\n",
            "\u001b[0;32m/usr/local/lib/python3.6/dist-packages/joblib/parallel.py\u001b[0m in \u001b[0;36m__call__\u001b[0;34m(self, iterable)\u001b[0m\n\u001b[1;32m   1005\u001b[0m                 \u001b[0mself\u001b[0m\u001b[0;34m.\u001b[0m\u001b[0m_iterating\u001b[0m \u001b[0;34m=\u001b[0m \u001b[0mself\u001b[0m\u001b[0;34m.\u001b[0m\u001b[0m_original_iterator\u001b[0m \u001b[0;32mis\u001b[0m \u001b[0;32mnot\u001b[0m \u001b[0;32mNone\u001b[0m\u001b[0;34m\u001b[0m\u001b[0;34m\u001b[0m\u001b[0m\n\u001b[1;32m   1006\u001b[0m \u001b[0;34m\u001b[0m\u001b[0m\n\u001b[0;32m-> 1007\u001b[0;31m             \u001b[0;32mwhile\u001b[0m \u001b[0mself\u001b[0m\u001b[0;34m.\u001b[0m\u001b[0mdispatch_one_batch\u001b[0m\u001b[0;34m(\u001b[0m\u001b[0miterator\u001b[0m\u001b[0;34m)\u001b[0m\u001b[0;34m:\u001b[0m\u001b[0;34m\u001b[0m\u001b[0;34m\u001b[0m\u001b[0m\n\u001b[0m\u001b[1;32m   1008\u001b[0m                 \u001b[0;32mpass\u001b[0m\u001b[0;34m\u001b[0m\u001b[0;34m\u001b[0m\u001b[0m\n\u001b[1;32m   1009\u001b[0m \u001b[0;34m\u001b[0m\u001b[0m\n",
            "\u001b[0;32m/usr/local/lib/python3.6/dist-packages/joblib/parallel.py\u001b[0m in \u001b[0;36mdispatch_one_batch\u001b[0;34m(self, iterator)\u001b[0m\n\u001b[1;32m    833\u001b[0m                 \u001b[0;32mreturn\u001b[0m \u001b[0;32mFalse\u001b[0m\u001b[0;34m\u001b[0m\u001b[0;34m\u001b[0m\u001b[0m\n\u001b[1;32m    834\u001b[0m             \u001b[0;32melse\u001b[0m\u001b[0;34m:\u001b[0m\u001b[0;34m\u001b[0m\u001b[0;34m\u001b[0m\u001b[0m\n\u001b[0;32m--> 835\u001b[0;31m                 \u001b[0mself\u001b[0m\u001b[0;34m.\u001b[0m\u001b[0m_dispatch\u001b[0m\u001b[0;34m(\u001b[0m\u001b[0mtasks\u001b[0m\u001b[0;34m)\u001b[0m\u001b[0;34m\u001b[0m\u001b[0;34m\u001b[0m\u001b[0m\n\u001b[0m\u001b[1;32m    836\u001b[0m                 \u001b[0;32mreturn\u001b[0m \u001b[0;32mTrue\u001b[0m\u001b[0;34m\u001b[0m\u001b[0;34m\u001b[0m\u001b[0m\n\u001b[1;32m    837\u001b[0m \u001b[0;34m\u001b[0m\u001b[0m\n",
            "\u001b[0;32m/usr/local/lib/python3.6/dist-packages/joblib/parallel.py\u001b[0m in \u001b[0;36m_dispatch\u001b[0;34m(self, batch)\u001b[0m\n\u001b[1;32m    752\u001b[0m         \u001b[0;32mwith\u001b[0m \u001b[0mself\u001b[0m\u001b[0;34m.\u001b[0m\u001b[0m_lock\u001b[0m\u001b[0;34m:\u001b[0m\u001b[0;34m\u001b[0m\u001b[0;34m\u001b[0m\u001b[0m\n\u001b[1;32m    753\u001b[0m             \u001b[0mjob_idx\u001b[0m \u001b[0;34m=\u001b[0m \u001b[0mlen\u001b[0m\u001b[0;34m(\u001b[0m\u001b[0mself\u001b[0m\u001b[0;34m.\u001b[0m\u001b[0m_jobs\u001b[0m\u001b[0;34m)\u001b[0m\u001b[0;34m\u001b[0m\u001b[0;34m\u001b[0m\u001b[0m\n\u001b[0;32m--> 754\u001b[0;31m             \u001b[0mjob\u001b[0m \u001b[0;34m=\u001b[0m \u001b[0mself\u001b[0m\u001b[0;34m.\u001b[0m\u001b[0m_backend\u001b[0m\u001b[0;34m.\u001b[0m\u001b[0mapply_async\u001b[0m\u001b[0;34m(\u001b[0m\u001b[0mbatch\u001b[0m\u001b[0;34m,\u001b[0m \u001b[0mcallback\u001b[0m\u001b[0;34m=\u001b[0m\u001b[0mcb\u001b[0m\u001b[0;34m)\u001b[0m\u001b[0;34m\u001b[0m\u001b[0;34m\u001b[0m\u001b[0m\n\u001b[0m\u001b[1;32m    755\u001b[0m             \u001b[0;31m# A job can complete so quickly than its callback is\u001b[0m\u001b[0;34m\u001b[0m\u001b[0;34m\u001b[0m\u001b[0;34m\u001b[0m\u001b[0m\n\u001b[1;32m    756\u001b[0m             \u001b[0;31m# called before we get here, causing self._jobs to\u001b[0m\u001b[0;34m\u001b[0m\u001b[0;34m\u001b[0m\u001b[0;34m\u001b[0m\u001b[0m\n",
            "\u001b[0;32m/usr/local/lib/python3.6/dist-packages/joblib/_parallel_backends.py\u001b[0m in \u001b[0;36mapply_async\u001b[0;34m(self, func, callback)\u001b[0m\n\u001b[1;32m    207\u001b[0m     \u001b[0;32mdef\u001b[0m \u001b[0mapply_async\u001b[0m\u001b[0;34m(\u001b[0m\u001b[0mself\u001b[0m\u001b[0;34m,\u001b[0m \u001b[0mfunc\u001b[0m\u001b[0;34m,\u001b[0m \u001b[0mcallback\u001b[0m\u001b[0;34m=\u001b[0m\u001b[0;32mNone\u001b[0m\u001b[0;34m)\u001b[0m\u001b[0;34m:\u001b[0m\u001b[0;34m\u001b[0m\u001b[0;34m\u001b[0m\u001b[0m\n\u001b[1;32m    208\u001b[0m         \u001b[0;34m\"\"\"Schedule a func to be run\"\"\"\u001b[0m\u001b[0;34m\u001b[0m\u001b[0;34m\u001b[0m\u001b[0m\n\u001b[0;32m--> 209\u001b[0;31m         \u001b[0mresult\u001b[0m \u001b[0;34m=\u001b[0m \u001b[0mImmediateResult\u001b[0m\u001b[0;34m(\u001b[0m\u001b[0mfunc\u001b[0m\u001b[0;34m)\u001b[0m\u001b[0;34m\u001b[0m\u001b[0;34m\u001b[0m\u001b[0m\n\u001b[0m\u001b[1;32m    210\u001b[0m         \u001b[0;32mif\u001b[0m \u001b[0mcallback\u001b[0m\u001b[0;34m:\u001b[0m\u001b[0;34m\u001b[0m\u001b[0;34m\u001b[0m\u001b[0m\n\u001b[1;32m    211\u001b[0m             \u001b[0mcallback\u001b[0m\u001b[0;34m(\u001b[0m\u001b[0mresult\u001b[0m\u001b[0;34m)\u001b[0m\u001b[0;34m\u001b[0m\u001b[0;34m\u001b[0m\u001b[0m\n",
            "\u001b[0;32m/usr/local/lib/python3.6/dist-packages/joblib/_parallel_backends.py\u001b[0m in \u001b[0;36m__init__\u001b[0;34m(self, batch)\u001b[0m\n\u001b[1;32m    588\u001b[0m         \u001b[0;31m# Don't delay the application, to avoid keeping the input\u001b[0m\u001b[0;34m\u001b[0m\u001b[0;34m\u001b[0m\u001b[0;34m\u001b[0m\u001b[0m\n\u001b[1;32m    589\u001b[0m         \u001b[0;31m# arguments in memory\u001b[0m\u001b[0;34m\u001b[0m\u001b[0;34m\u001b[0m\u001b[0;34m\u001b[0m\u001b[0m\n\u001b[0;32m--> 590\u001b[0;31m         \u001b[0mself\u001b[0m\u001b[0;34m.\u001b[0m\u001b[0mresults\u001b[0m \u001b[0;34m=\u001b[0m \u001b[0mbatch\u001b[0m\u001b[0;34m(\u001b[0m\u001b[0;34m)\u001b[0m\u001b[0;34m\u001b[0m\u001b[0;34m\u001b[0m\u001b[0m\n\u001b[0m\u001b[1;32m    591\u001b[0m \u001b[0;34m\u001b[0m\u001b[0m\n\u001b[1;32m    592\u001b[0m     \u001b[0;32mdef\u001b[0m \u001b[0mget\u001b[0m\u001b[0;34m(\u001b[0m\u001b[0mself\u001b[0m\u001b[0;34m)\u001b[0m\u001b[0;34m:\u001b[0m\u001b[0;34m\u001b[0m\u001b[0;34m\u001b[0m\u001b[0m\n",
            "\u001b[0;32m/usr/local/lib/python3.6/dist-packages/joblib/parallel.py\u001b[0m in \u001b[0;36m__call__\u001b[0;34m(self)\u001b[0m\n\u001b[1;32m    254\u001b[0m         \u001b[0;32mwith\u001b[0m \u001b[0mparallel_backend\u001b[0m\u001b[0;34m(\u001b[0m\u001b[0mself\u001b[0m\u001b[0;34m.\u001b[0m\u001b[0m_backend\u001b[0m\u001b[0;34m,\u001b[0m \u001b[0mn_jobs\u001b[0m\u001b[0;34m=\u001b[0m\u001b[0mself\u001b[0m\u001b[0;34m.\u001b[0m\u001b[0m_n_jobs\u001b[0m\u001b[0;34m)\u001b[0m\u001b[0;34m:\u001b[0m\u001b[0;34m\u001b[0m\u001b[0;34m\u001b[0m\u001b[0m\n\u001b[1;32m    255\u001b[0m             return [func(*args, **kwargs)\n\u001b[0;32m--> 256\u001b[0;31m                     for func, args, kwargs in self.items]\n\u001b[0m\u001b[1;32m    257\u001b[0m \u001b[0;34m\u001b[0m\u001b[0m\n\u001b[1;32m    258\u001b[0m     \u001b[0;32mdef\u001b[0m \u001b[0m__len__\u001b[0m\u001b[0;34m(\u001b[0m\u001b[0mself\u001b[0m\u001b[0;34m)\u001b[0m\u001b[0;34m:\u001b[0m\u001b[0;34m\u001b[0m\u001b[0;34m\u001b[0m\u001b[0m\n",
            "\u001b[0;32m/usr/local/lib/python3.6/dist-packages/joblib/parallel.py\u001b[0m in \u001b[0;36m<listcomp>\u001b[0;34m(.0)\u001b[0m\n\u001b[1;32m    254\u001b[0m         \u001b[0;32mwith\u001b[0m \u001b[0mparallel_backend\u001b[0m\u001b[0;34m(\u001b[0m\u001b[0mself\u001b[0m\u001b[0;34m.\u001b[0m\u001b[0m_backend\u001b[0m\u001b[0;34m,\u001b[0m \u001b[0mn_jobs\u001b[0m\u001b[0;34m=\u001b[0m\u001b[0mself\u001b[0m\u001b[0;34m.\u001b[0m\u001b[0m_n_jobs\u001b[0m\u001b[0;34m)\u001b[0m\u001b[0;34m:\u001b[0m\u001b[0;34m\u001b[0m\u001b[0;34m\u001b[0m\u001b[0m\n\u001b[1;32m    255\u001b[0m             return [func(*args, **kwargs)\n\u001b[0;32m--> 256\u001b[0;31m                     for func, args, kwargs in self.items]\n\u001b[0m\u001b[1;32m    257\u001b[0m \u001b[0;34m\u001b[0m\u001b[0m\n\u001b[1;32m    258\u001b[0m     \u001b[0;32mdef\u001b[0m \u001b[0m__len__\u001b[0m\u001b[0;34m(\u001b[0m\u001b[0mself\u001b[0m\u001b[0;34m)\u001b[0m\u001b[0;34m:\u001b[0m\u001b[0;34m\u001b[0m\u001b[0;34m\u001b[0m\u001b[0m\n",
            "\u001b[0;32m/usr/local/lib/python3.6/dist-packages/sklearn/model_selection/_validation.py\u001b[0m in \u001b[0;36m_fit_and_score\u001b[0;34m(estimator, X, y, scorer, train, test, verbose, parameters, fit_params, return_train_score, return_parameters, return_n_test_samples, return_times, return_estimator, error_score)\u001b[0m\n\u001b[1;32m    513\u001b[0m             \u001b[0mestimator\u001b[0m\u001b[0;34m.\u001b[0m\u001b[0mfit\u001b[0m\u001b[0;34m(\u001b[0m\u001b[0mX_train\u001b[0m\u001b[0;34m,\u001b[0m \u001b[0;34m**\u001b[0m\u001b[0mfit_params\u001b[0m\u001b[0;34m)\u001b[0m\u001b[0;34m\u001b[0m\u001b[0;34m\u001b[0m\u001b[0m\n\u001b[1;32m    514\u001b[0m         \u001b[0;32melse\u001b[0m\u001b[0;34m:\u001b[0m\u001b[0;34m\u001b[0m\u001b[0;34m\u001b[0m\u001b[0m\n\u001b[0;32m--> 515\u001b[0;31m             \u001b[0mestimator\u001b[0m\u001b[0;34m.\u001b[0m\u001b[0mfit\u001b[0m\u001b[0;34m(\u001b[0m\u001b[0mX_train\u001b[0m\u001b[0;34m,\u001b[0m \u001b[0my_train\u001b[0m\u001b[0;34m,\u001b[0m \u001b[0;34m**\u001b[0m\u001b[0mfit_params\u001b[0m\u001b[0;34m)\u001b[0m\u001b[0;34m\u001b[0m\u001b[0;34m\u001b[0m\u001b[0m\n\u001b[0m\u001b[1;32m    516\u001b[0m \u001b[0;34m\u001b[0m\u001b[0m\n\u001b[1;32m    517\u001b[0m     \u001b[0;32mexcept\u001b[0m \u001b[0mException\u001b[0m \u001b[0;32mas\u001b[0m \u001b[0me\u001b[0m\u001b[0;34m:\u001b[0m\u001b[0;34m\u001b[0m\u001b[0;34m\u001b[0m\u001b[0m\n",
            "\u001b[0;32m/usr/local/lib/python3.6/dist-packages/sklearn/svm/_base.py\u001b[0m in \u001b[0;36mfit\u001b[0;34m(self, X, y, sample_weight)\u001b[0m\n\u001b[1;32m    197\u001b[0m \u001b[0;34m\u001b[0m\u001b[0m\n\u001b[1;32m    198\u001b[0m         \u001b[0mseed\u001b[0m \u001b[0;34m=\u001b[0m \u001b[0mrnd\u001b[0m\u001b[0;34m.\u001b[0m\u001b[0mrandint\u001b[0m\u001b[0;34m(\u001b[0m\u001b[0mnp\u001b[0m\u001b[0;34m.\u001b[0m\u001b[0miinfo\u001b[0m\u001b[0;34m(\u001b[0m\u001b[0;34m'i'\u001b[0m\u001b[0;34m)\u001b[0m\u001b[0;34m.\u001b[0m\u001b[0mmax\u001b[0m\u001b[0;34m)\u001b[0m\u001b[0;34m\u001b[0m\u001b[0;34m\u001b[0m\u001b[0m\n\u001b[0;32m--> 199\u001b[0;31m         \u001b[0mfit\u001b[0m\u001b[0;34m(\u001b[0m\u001b[0mX\u001b[0m\u001b[0;34m,\u001b[0m \u001b[0my\u001b[0m\u001b[0;34m,\u001b[0m \u001b[0msample_weight\u001b[0m\u001b[0;34m,\u001b[0m \u001b[0msolver_type\u001b[0m\u001b[0;34m,\u001b[0m \u001b[0mkernel\u001b[0m\u001b[0;34m,\u001b[0m \u001b[0mrandom_seed\u001b[0m\u001b[0;34m=\u001b[0m\u001b[0mseed\u001b[0m\u001b[0;34m)\u001b[0m\u001b[0;34m\u001b[0m\u001b[0;34m\u001b[0m\u001b[0m\n\u001b[0m\u001b[1;32m    200\u001b[0m         \u001b[0;31m# see comment on the other call to np.iinfo in this file\u001b[0m\u001b[0;34m\u001b[0m\u001b[0;34m\u001b[0m\u001b[0;34m\u001b[0m\u001b[0m\n\u001b[1;32m    201\u001b[0m \u001b[0;34m\u001b[0m\u001b[0m\n",
            "\u001b[0;32m/usr/local/lib/python3.6/dist-packages/sklearn/svm/_base.py\u001b[0m in \u001b[0;36m_dense_fit\u001b[0;34m(self, X, y, sample_weight, solver_type, kernel, random_seed)\u001b[0m\n\u001b[1;32m    256\u001b[0m                 \u001b[0mcache_size\u001b[0m\u001b[0;34m=\u001b[0m\u001b[0mself\u001b[0m\u001b[0;34m.\u001b[0m\u001b[0mcache_size\u001b[0m\u001b[0;34m,\u001b[0m \u001b[0mcoef0\u001b[0m\u001b[0;34m=\u001b[0m\u001b[0mself\u001b[0m\u001b[0;34m.\u001b[0m\u001b[0mcoef0\u001b[0m\u001b[0;34m,\u001b[0m\u001b[0;34m\u001b[0m\u001b[0;34m\u001b[0m\u001b[0m\n\u001b[1;32m    257\u001b[0m                 \u001b[0mgamma\u001b[0m\u001b[0;34m=\u001b[0m\u001b[0mself\u001b[0m\u001b[0;34m.\u001b[0m\u001b[0m_gamma\u001b[0m\u001b[0;34m,\u001b[0m \u001b[0mepsilon\u001b[0m\u001b[0;34m=\u001b[0m\u001b[0mself\u001b[0m\u001b[0;34m.\u001b[0m\u001b[0mepsilon\u001b[0m\u001b[0;34m,\u001b[0m\u001b[0;34m\u001b[0m\u001b[0;34m\u001b[0m\u001b[0m\n\u001b[0;32m--> 258\u001b[0;31m                 max_iter=self.max_iter, random_seed=random_seed)\n\u001b[0m\u001b[1;32m    259\u001b[0m \u001b[0;34m\u001b[0m\u001b[0m\n\u001b[1;32m    260\u001b[0m         \u001b[0mself\u001b[0m\u001b[0;34m.\u001b[0m\u001b[0m_warn_from_fit_status\u001b[0m\u001b[0;34m(\u001b[0m\u001b[0;34m)\u001b[0m\u001b[0;34m\u001b[0m\u001b[0;34m\u001b[0m\u001b[0m\n",
            "\u001b[0;31mKeyboardInterrupt\u001b[0m: "
          ]
        }
      ]
    },
    {
      "cell_type": "code",
      "metadata": {
        "id": "hUUjpqjs3NZQ",
        "colab_type": "code",
        "colab": {
          "base_uri": "https://localhost:8080/",
          "height": 425
        },
        "outputId": "4d793b2c-649c-4491-894f-cd12729d8cde"
      },
      "source": [
        "model_metrics(lr_grid.best_estimator_,x_test0,y_test0)"
      ],
      "execution_count": 38,
      "outputs": [
        {
          "output_type": "stream",
          "text": [
            "confusion matrix:\n",
            " [[5808 2665]\n",
            " [ 243  484]]\n",
            "tn:  5808 \t fp:  2665\n",
            "fn:  243 \t tp:  484\n",
            "\n",
            "Accuracy:  0.684\n",
            "f1_score:  [0.8  0.25]\n",
            "Avg_unweighted f1_score:  0.525\n",
            "Avg_weighted f1_score:  0.756\n",
            "recall:  [0.685 0.666]\n",
            "precision:  [0.96  0.154]\n",
            "auc_score:  0.731\n",
            "\n",
            "\n",
            "              precision    recall  f1-score   support\n",
            "\n",
            "           0       0.96      0.69      0.80      8473\n",
            "           1       0.15      0.67      0.25       727\n",
            "\n",
            "    accuracy                           0.68      9200\n",
            "   macro avg       0.56      0.68      0.52      9200\n",
            "weighted avg       0.90      0.68      0.76      9200\n",
            "\n"
          ],
          "name": "stdout"
        }
      ]
    },
    {
      "cell_type": "code",
      "metadata": {
        "id": "TxM77qyx3NcK",
        "colab_type": "code",
        "colab": {
          "base_uri": "https://localhost:8080/",
          "height": 153
        },
        "outputId": "386313a9-7eb9-4218-f859-bbec18b45515"
      },
      "source": [
        "model_CVmetrics(lr_grid.best_estimator_,x_train0,y_train0)"
      ],
      "execution_count": 42,
      "outputs": [
        {
          "output_type": "stream",
          "text": [
            "             Stratified_10Fold  10Fold\n",
            "accuracy                 0.689   0.689\n",
            "f1                       0.261   0.260\n",
            "f1_macro                 0.532   0.532\n",
            "f1_weighted              0.761   0.760\n",
            "recall                   0.695   0.694\n",
            "precision                0.161   0.160\n",
            "roc_auc                  0.746   0.746\n"
          ],
          "name": "stdout"
        }
      ]
    },
    {
      "cell_type": "markdown",
      "metadata": {
        "id": "J0dF3NoLjDO0",
        "colab_type": "text"
      },
      "source": [
        "### APPROACH 1-Aggregate Approach\n",
        "#### Aggregate on HorseID, convert categorical to dummy variables"
      ]
    },
    {
      "cell_type": "code",
      "metadata": {
        "id": "D99BTt0q3Nhu",
        "colab_type": "code",
        "colab": {
          "base_uri": "https://localhost:8080/",
          "height": 442
        },
        "outputId": "c5a295dd-4d20-4d30-d61e-b5839785e505"
      },
      "source": [
        "x_train1,x_test1,y_train1,y_test1=train_test_split(df_ap1.drop(['Won'],axis=1),df_ap1.Won,\n",
        "                                               test_size=0.25,stratify=df_ap1.Won,random_state=100)\n",
        "#scaling between mean and 1 std deviation\n",
        "std_scaler=StandardScaler()\n",
        "x_train1=std_scaler.fit_transform(x_train1)\n",
        "x_test1=std_scaler.fit_transform(x_test1)\n",
        "\n",
        "print('*'*70,'\\n','dimmensions of train data:',x_train1.shape,'\\n','*'*70)\n",
        "print('class %:','\\n',y_train1.value_counts(normalize=True)*100,'\\n')\n",
        "print('class counts:','\\n',y_train1.value_counts())\n",
        "\n",
        "print('\\n','*'*70,'\\n','dimmensions of test data:',x_test1.shape,'\\n','*'*70)\n",
        "print('class %:','\\n',y_test1.value_counts(normalize=True)*100,'\\n')\n",
        "print('class counts:','\\n',y_test1.value_counts())"
      ],
      "execution_count": 17,
      "outputs": [
        {
          "output_type": "stream",
          "text": [
            "********************************************************************** \n",
            " dimmensions of train data: (4548, 59) \n",
            " **********************************************************************\n",
            "class %: \n",
            " 0    97.273527\n",
            "1     2.726473\n",
            "Name: Won, dtype: float64 \n",
            "\n",
            "class counts: \n",
            " 0    4424\n",
            "1     124\n",
            "Name: Won, dtype: int64\n",
            "\n",
            " ********************************************************************** \n",
            " dimmensions of test data: (1516, 59) \n",
            " **********************************************************************\n",
            "class %: \n",
            " 0    97.295515\n",
            "1     2.704485\n",
            "Name: Won, dtype: float64 \n",
            "\n",
            "class counts: \n",
            " 0    1475\n",
            "1      41\n",
            "Name: Won, dtype: int64\n"
          ],
          "name": "stdout"
        }
      ]
    },
    {
      "cell_type": "code",
      "metadata": {
        "id": "AQ6BIeeE3Nkg",
        "colab_type": "code",
        "colab": {}
      },
      "source": [
        "dct_grid=GridSearchCV(dct,dct_params,scoring='f1',cv=starcv,n_jobs=-1).fit(x_train1,y_train1)\n",
        "rf_grid=GridSearchCV(rf,rf_params,scoring='f1',cv=starcv,n_jobs=-1).fit(x_train1,y_train1)\n",
        "svm_grid=GridSearchCV(svm,svm_params,scoring='f1',cv=starcv,n_jobs=-1).fit(x_train1,y_train1)\n",
        "lr_grid=GridSearchCV(lr,lr_params,scoring='f1',cv=starcv,n_jobs=-1).fit(x_train1,y_train1)"
      ],
      "execution_count": 0,
      "outputs": []
    },
    {
      "cell_type": "code",
      "metadata": {
        "id": "A9QTualG3Nyp",
        "colab_type": "code",
        "colab": {
          "base_uri": "https://localhost:8080/",
          "height": 34
        },
        "outputId": "237b0e04-6433-4843-d2b3-54458f5a266c"
      },
      "source": [
        "import tensorflow as tf\n",
        "device_name = tf.test.gpu_device_name()\n",
        "if device_name != '/device:GPU:0':\n",
        "  raise SystemError('GPU device not found')\n",
        "print('Found GPU at: {}'.format(device_name))"
      ],
      "execution_count": 22,
      "outputs": [
        {
          "output_type": "stream",
          "text": [
            "Found GPU at: /device:GPU:0\n"
          ],
          "name": "stdout"
        }
      ]
    },
    {
      "cell_type": "code",
      "metadata": {
        "id": "G-Wuefkg3Nnf",
        "colab_type": "code",
        "colab": {
          "base_uri": "https://localhost:8080/",
          "height": 425
        },
        "outputId": "3bc0f2c3-bd38-4e10-aae7-6c2c5a7c8912"
      },
      "source": [
        "model_metrics(dct_grid.best_estimator_,x_test1,y_test1)"
      ],
      "execution_count": 24,
      "outputs": [
        {
          "output_type": "stream",
          "text": [
            "confusion matrix:\n",
            " [[682 793]\n",
            " [ 15  26]]\n",
            "tn:  682 \t fp:  793\n",
            "fn:  15 \t tp:  26\n",
            "\n",
            "Accuracy:  0.467\n",
            "f1_score:  [0.628 0.06 ]\n",
            "Avg_unweighted f1_score:  0.344\n",
            "Avg_weighted f1_score:  0.613\n",
            "recall:  [0.462 0.634]\n",
            "precision:  [0.978 0.032]\n",
            "auc_score:  0.551\n",
            "\n",
            "\n",
            "              precision    recall  f1-score   support\n",
            "\n",
            "           0       0.98      0.46      0.63      1475\n",
            "           1       0.03      0.63      0.06        41\n",
            "\n",
            "    accuracy                           0.47      1516\n",
            "   macro avg       0.51      0.55      0.34      1516\n",
            "weighted avg       0.95      0.47      0.61      1516\n",
            "\n"
          ],
          "name": "stdout"
        }
      ]
    },
    {
      "cell_type": "code",
      "metadata": {
        "id": "tZEhgqI13M90",
        "colab_type": "code",
        "colab": {
          "base_uri": "https://localhost:8080/",
          "height": 153
        },
        "outputId": "de37b90e-55f8-4278-d137-ca6c82b7d50a"
      },
      "source": [
        "model_CVmetrics(dct_grid.best_estimator_,x_train1,y_train1)"
      ],
      "execution_count": 25,
      "outputs": [
        {
          "output_type": "stream",
          "text": [
            "             Stratified_10Fold  10Fold\n",
            "accuracy                 0.676   0.714\n",
            "f1                       0.077   0.089\n",
            "f1_macro                 0.439   0.458\n",
            "f1_weighted              0.780   0.807\n",
            "recall                   0.491   0.478\n",
            "precision                0.042   0.050\n",
            "roc_auc                  0.599   0.616\n"
          ],
          "name": "stdout"
        }
      ]
    },
    {
      "cell_type": "code",
      "metadata": {
        "id": "FSaPL6Q022LL",
        "colab_type": "code",
        "colab": {
          "base_uri": "https://localhost:8080/",
          "height": 425
        },
        "outputId": "7092a1d6-c044-440f-80f1-66e027d0d593"
      },
      "source": [
        "model_metrics(rf_grid.best_estimator_,x_test1,y_test1)"
      ],
      "execution_count": 26,
      "outputs": [
        {
          "output_type": "stream",
          "text": [
            "confusion matrix:\n",
            " [[1230  245]\n",
            " [  29   12]]\n",
            "tn:  1230 \t fp:  245\n",
            "fn:  29 \t tp:  12\n",
            "\n",
            "Accuracy:  0.819\n",
            "f1_score:  [0.9   0.081]\n",
            "Avg_unweighted f1_score:  0.49\n",
            "Avg_weighted f1_score:  0.878\n",
            "recall:  [0.834 0.293]\n",
            "precision:  [0.977 0.047]\n",
            "auc_score:  0.614\n",
            "\n",
            "\n",
            "              precision    recall  f1-score   support\n",
            "\n",
            "           0       0.98      0.83      0.90      1475\n",
            "           1       0.05      0.29      0.08        41\n",
            "\n",
            "    accuracy                           0.82      1516\n",
            "   macro avg       0.51      0.56      0.49      1516\n",
            "weighted avg       0.95      0.82      0.88      1516\n",
            "\n"
          ],
          "name": "stdout"
        }
      ]
    },
    {
      "cell_type": "code",
      "metadata": {
        "id": "ggoSH8h622eC",
        "colab_type": "code",
        "colab": {
          "base_uri": "https://localhost:8080/",
          "height": 153
        },
        "outputId": "06df3402-47d0-41ac-9185-82f68ad74f58"
      },
      "source": [
        "model_CVmetrics(rf_grid.best_estimator_,x_train1,y_train1)"
      ],
      "execution_count": 27,
      "outputs": [
        {
          "output_type": "stream",
          "text": [
            "             Stratified_10Fold  10Fold\n",
            "accuracy                 0.845   0.845\n",
            "f1                       0.118   0.105\n",
            "f1_macro                 0.517   0.510\n",
            "f1_weighted              0.893   0.893\n",
            "recall                   0.380   0.325\n",
            "precision                0.070   0.064\n",
            "roc_auc                  0.666   0.650\n"
          ],
          "name": "stdout"
        }
      ]
    },
    {
      "cell_type": "code",
      "metadata": {
        "id": "ZZVSFNlS22hV",
        "colab_type": "code",
        "colab": {
          "base_uri": "https://localhost:8080/",
          "height": 425
        },
        "outputId": "15063827-d053-4c46-f154-2b5d3c421f22"
      },
      "source": [
        "model_metrics(svm_grid.best_estimator_,x_test1,y_test1)"
      ],
      "execution_count": 28,
      "outputs": [
        {
          "output_type": "stream",
          "text": [
            "confusion matrix:\n",
            " [[1029  446]\n",
            " [  27   14]]\n",
            "tn:  1029 \t fp:  446\n",
            "fn:  27 \t tp:  14\n",
            "\n",
            "Accuracy:  0.688\n",
            "f1_score:  [0.813 0.056]\n",
            "Avg_unweighted f1_score:  0.435\n",
            "Avg_weighted f1_score:  0.793\n",
            "recall:  [0.698 0.341]\n",
            "precision:  [0.974 0.03 ]\n",
            "auc_score:  0.541\n",
            "\n",
            "\n",
            "              precision    recall  f1-score   support\n",
            "\n",
            "           0       0.97      0.70      0.81      1475\n",
            "           1       0.03      0.34      0.06        41\n",
            "\n",
            "    accuracy                           0.69      1516\n",
            "   macro avg       0.50      0.52      0.43      1516\n",
            "weighted avg       0.95      0.69      0.79      1516\n",
            "\n"
          ],
          "name": "stdout"
        }
      ]
    },
    {
      "cell_type": "code",
      "metadata": {
        "id": "znI-HPuf22qX",
        "colab_type": "code",
        "colab": {
          "base_uri": "https://localhost:8080/",
          "height": 153
        },
        "outputId": "04a3fef6-179c-43e0-c909-2409b9666369"
      },
      "source": [
        "model_CVmetrics(svm_grid.best_estimator_,x_train1,y_train1)"
      ],
      "execution_count": 29,
      "outputs": [
        {
          "output_type": "stream",
          "text": [
            "             Stratified_10Fold  10Fold\n",
            "accuracy                 0.692   0.692\n",
            "f1                       0.085   0.078\n",
            "f1_macro                 0.450   0.447\n",
            "f1_weighted              0.794   0.795\n",
            "recall                   0.524   0.465\n",
            "precision                0.046   0.043\n",
            "roc_auc                  0.627   0.617\n"
          ],
          "name": "stdout"
        }
      ]
    },
    {
      "cell_type": "code",
      "metadata": {
        "id": "xzW_Qpmk22uK",
        "colab_type": "code",
        "colab": {
          "base_uri": "https://localhost:8080/",
          "height": 425
        },
        "outputId": "e783a6ad-e242-4f28-d03b-5088ef4e702f"
      },
      "source": [
        "model_metrics(lr_grid.best_estimator_,x_test1,y_test1)"
      ],
      "execution_count": 30,
      "outputs": [
        {
          "output_type": "stream",
          "text": [
            "confusion matrix:\n",
            " [[990 485]\n",
            " [ 23  18]]\n",
            "tn:  990 \t fp:  485\n",
            "fn:  23 \t tp:  18\n",
            "\n",
            "Accuracy:  0.665\n",
            "f1_score:  [0.796 0.066]\n",
            "Avg_unweighted f1_score:  0.431\n",
            "Avg_weighted f1_score:  0.776\n",
            "recall:  [0.671 0.439]\n",
            "precision:  [0.977 0.036]\n",
            "auc_score:  0.589\n",
            "\n",
            "\n",
            "              precision    recall  f1-score   support\n",
            "\n",
            "           0       0.98      0.67      0.80      1475\n",
            "           1       0.04      0.44      0.07        41\n",
            "\n",
            "    accuracy                           0.66      1516\n",
            "   macro avg       0.51      0.56      0.43      1516\n",
            "weighted avg       0.95      0.66      0.78      1516\n",
            "\n"
          ],
          "name": "stdout"
        }
      ]
    },
    {
      "cell_type": "code",
      "metadata": {
        "id": "UZ4Cw2Ys228A",
        "colab_type": "code",
        "colab": {
          "base_uri": "https://localhost:8080/",
          "height": 153
        },
        "outputId": "718830d1-ae84-4c8b-95dd-037307f978a2"
      },
      "source": [
        "model_CVmetrics(lr_grid.best_estimator_,x_train1,y_train1)"
      ],
      "execution_count": 31,
      "outputs": [
        {
          "output_type": "stream",
          "text": [
            "             Stratified_10Fold  10Fold\n",
            "accuracy                 0.673   0.670\n",
            "f1                       0.083   0.081\n",
            "f1_macro                 0.442   0.440\n",
            "f1_weighted              0.781   0.779\n",
            "recall                   0.540   0.527\n",
            "precision                0.045   0.044\n",
            "roc_auc                  0.640   0.627\n"
          ],
          "name": "stdout"
        }
      ]
    }
  ]
}